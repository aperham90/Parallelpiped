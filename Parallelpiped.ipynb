{
 "cells": [
  {
   "cell_type": "code",
   "execution_count": 1,
   "metadata": {},
   "outputs": [],
   "source": [
    "import math"
   ]
  },
  {
   "cell_type": "code",
   "execution_count": 2,
   "metadata": {},
   "outputs": [],
   "source": [
    "def parallelpiped(l, w, h):\n",
    "    v = l * w * h\n",
    "    a = 2 * w * l + 2 * w * h + 2 * h * l\n",
    "    d = math.sqrt(l**2 + w**2 + h**2)\n",
    "    return v, a, d"
   ]
  },
  {
   "cell_type": "code",
   "execution_count": 3,
   "metadata": {},
   "outputs": [
    {
     "name": "stdout",
     "output_type": "stream",
     "text": [
      "Use the keyboard to enter the length: 2\n",
      "Use the keyboard to enter the width: 4\n",
      "Use the keyboard to enter the height: 6\n"
     ]
    }
   ],
   "source": [
    "entry_1 = float(input(\"Use the keyboard to enter the length: \"))\n",
    "entry_2 = float(input(\"Use the keyboard to enter the width: \"))\n",
    "entry_3 = float(input(\"Use the keyboard to enter the height: \"))"
   ]
  },
  {
   "cell_type": "code",
   "execution_count": 4,
   "metadata": {},
   "outputs": [],
   "source": [
    "volume, surface_area, diagonal = parallelpiped(entry_1, entry_2, entry_3)\n",
    "volume = round(volume, 2)\n",
    "surface_area = round(surface_area, 2)\n",
    "diagonal = round(diagonal, 2)"
   ]
  },
  {
   "cell_type": "code",
   "execution_count": 5,
   "metadata": {},
   "outputs": [
    {
     "name": "stdout",
     "output_type": "stream",
     "text": [
      "The volume is  48.0 units^3\n",
      "The surface area is  88.0 units^2\n",
      "The diagonal is  7.48 units\n"
     ]
    }
   ],
   "source": [
    "print(\"The volume is \", volume, \"units^3\")\n",
    "print(\"The surface area is \", surface_area, \"units^2\")\n",
    "print(\"The diagonal is \", diagonal, \"units\")"
   ]
  }
 ],
 "metadata": {
  "kernelspec": {
   "display_name": "Python 3",
   "language": "python",
   "name": "python3"
  },
  "language_info": {
   "codemirror_mode": {
    "name": "ipython",
    "version": 3
   },
   "file_extension": ".py",
   "mimetype": "text/x-python",
   "name": "python",
   "nbconvert_exporter": "python",
   "pygments_lexer": "ipython3",
   "version": "3.7.6"
  }
 },
 "nbformat": 4,
 "nbformat_minor": 4
}
